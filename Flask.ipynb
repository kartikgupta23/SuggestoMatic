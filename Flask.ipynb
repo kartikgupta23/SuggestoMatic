{
 "cells": [
  {
   "cell_type": "code",
   "execution_count": 47,
   "metadata": {},
   "outputs": [
    {
     "ename": "ImportError",
     "evalue": "cannot import name '_wsgi_encoding_dance' from 'werkzeug._internal' (c:\\Users\\karti\\AppData\\Local\\Programs\\Python\\Python312\\Lib\\site-packages\\werkzeug\\_internal.py)",
     "output_type": "error",
     "traceback": [
      "\u001b[1;31m---------------------------------------------------------------------------\u001b[0m",
      "\u001b[1;31mImportError\u001b[0m                               Traceback (most recent call last)",
      "Cell \u001b[1;32mIn[47], line 5\u001b[0m\n\u001b[0;32m      3\u001b[0m \u001b[38;5;28;01mfrom\u001b[39;00m \u001b[38;5;21;01mos\u001b[39;00m  \u001b[38;5;28;01mimport\u001b[39;00m getcwd\n\u001b[0;32m      4\u001b[0m \u001b[38;5;28;01mimport\u001b[39;00m \u001b[38;5;21;01mpickle\u001b[39;00m\n\u001b[1;32m----> 5\u001b[0m \u001b[38;5;28;01mfrom\u001b[39;00m \u001b[38;5;21;01mflask\u001b[39;00m \u001b[38;5;28;01mimport\u001b[39;00m Flask\n\u001b[0;32m      6\u001b[0m \u001b[38;5;28;01mfrom\u001b[39;00m \u001b[38;5;21;01mflask\u001b[39;00m \u001b[38;5;28;01mimport\u001b[39;00m render_template\n\u001b[0;32m      7\u001b[0m \u001b[38;5;28;01mfrom\u001b[39;00m \u001b[38;5;21;01mflask\u001b[39;00m \u001b[38;5;28;01mimport\u001b[39;00m request\n",
      "File \u001b[1;32mc:\\Users\\karti\\AppData\\Local\\Programs\\Python\\Python312\\Lib\\site-packages\\flask\\__init__.py:6\u001b[0m\n\u001b[0;32m      3\u001b[0m \u001b[38;5;28;01mimport\u001b[39;00m \u001b[38;5;21;01mtyping\u001b[39;00m \u001b[38;5;28;01mas\u001b[39;00m \u001b[38;5;21;01mt\u001b[39;00m\n\u001b[0;32m      5\u001b[0m \u001b[38;5;28;01mfrom\u001b[39;00m \u001b[38;5;21;01m.\u001b[39;00m \u001b[38;5;28;01mimport\u001b[39;00m json \u001b[38;5;28;01mas\u001b[39;00m json\n\u001b[1;32m----> 6\u001b[0m \u001b[38;5;28;01mfrom\u001b[39;00m \u001b[38;5;21;01m.\u001b[39;00m\u001b[38;5;21;01mapp\u001b[39;00m \u001b[38;5;28;01mimport\u001b[39;00m Flask \u001b[38;5;28;01mas\u001b[39;00m Flask\n\u001b[0;32m      7\u001b[0m \u001b[38;5;28;01mfrom\u001b[39;00m \u001b[38;5;21;01m.\u001b[39;00m\u001b[38;5;21;01mblueprints\u001b[39;00m \u001b[38;5;28;01mimport\u001b[39;00m Blueprint \u001b[38;5;28;01mas\u001b[39;00m Blueprint\n\u001b[0;32m      8\u001b[0m \u001b[38;5;28;01mfrom\u001b[39;00m \u001b[38;5;21;01m.\u001b[39;00m\u001b[38;5;21;01mconfig\u001b[39;00m \u001b[38;5;28;01mimport\u001b[39;00m Config \u001b[38;5;28;01mas\u001b[39;00m Config\n",
      "File \u001b[1;32mc:\\Users\\karti\\AppData\\Local\\Programs\\Python\\Python312\\Lib\\site-packages\\flask\\app.py:25\u001b[0m\n\u001b[0;32m     23\u001b[0m \u001b[38;5;28;01mfrom\u001b[39;00m \u001b[38;5;21;01mwerkzeug\u001b[39;00m\u001b[38;5;21;01m.\u001b[39;00m\u001b[38;5;21;01mrouting\u001b[39;00m \u001b[38;5;28;01mimport\u001b[39;00m RoutingException\n\u001b[0;32m     24\u001b[0m \u001b[38;5;28;01mfrom\u001b[39;00m \u001b[38;5;21;01mwerkzeug\u001b[39;00m\u001b[38;5;21;01m.\u001b[39;00m\u001b[38;5;21;01mrouting\u001b[39;00m \u001b[38;5;28;01mimport\u001b[39;00m Rule\n\u001b[1;32m---> 25\u001b[0m \u001b[38;5;28;01mfrom\u001b[39;00m \u001b[38;5;21;01mwerkzeug\u001b[39;00m\u001b[38;5;21;01m.\u001b[39;00m\u001b[38;5;21;01mserving\u001b[39;00m \u001b[38;5;28;01mimport\u001b[39;00m is_running_from_reloader\n\u001b[0;32m     26\u001b[0m \u001b[38;5;28;01mfrom\u001b[39;00m \u001b[38;5;21;01mwerkzeug\u001b[39;00m\u001b[38;5;21;01m.\u001b[39;00m\u001b[38;5;21;01mwrappers\u001b[39;00m \u001b[38;5;28;01mimport\u001b[39;00m Response \u001b[38;5;28;01mas\u001b[39;00m BaseResponse\n\u001b[0;32m     28\u001b[0m \u001b[38;5;28;01mfrom\u001b[39;00m \u001b[38;5;21;01m.\u001b[39;00m \u001b[38;5;28;01mimport\u001b[39;00m cli\n",
      "File \u001b[1;32mc:\\Users\\karti\\AppData\\Local\\Programs\\Python\\Python312\\Lib\\site-packages\\werkzeug\\serving.py:34\u001b[0m\n\u001b[0;32m     31\u001b[0m \u001b[38;5;28;01mfrom\u001b[39;00m \u001b[38;5;21;01murllib\u001b[39;00m\u001b[38;5;21;01m.\u001b[39;00m\u001b[38;5;21;01mparse\u001b[39;00m \u001b[38;5;28;01mimport\u001b[39;00m urlsplit\n\u001b[0;32m     33\u001b[0m \u001b[38;5;28;01mfrom\u001b[39;00m \u001b[38;5;21;01m.\u001b[39;00m\u001b[38;5;21;01m_internal\u001b[39;00m \u001b[38;5;28;01mimport\u001b[39;00m _log\n\u001b[1;32m---> 34\u001b[0m \u001b[38;5;28;01mfrom\u001b[39;00m \u001b[38;5;21;01m.\u001b[39;00m\u001b[38;5;21;01m_internal\u001b[39;00m \u001b[38;5;28;01mimport\u001b[39;00m _wsgi_encoding_dance\n\u001b[0;32m     35\u001b[0m \u001b[38;5;28;01mfrom\u001b[39;00m \u001b[38;5;21;01m.\u001b[39;00m\u001b[38;5;21;01mexceptions\u001b[39;00m \u001b[38;5;28;01mimport\u001b[39;00m InternalServerError\n\u001b[0;32m     36\u001b[0m \u001b[38;5;28;01mfrom\u001b[39;00m \u001b[38;5;21;01m.\u001b[39;00m\u001b[38;5;21;01murls\u001b[39;00m \u001b[38;5;28;01mimport\u001b[39;00m uri_to_iri\n",
      "\u001b[1;31mImportError\u001b[0m: cannot import name '_wsgi_encoding_dance' from 'werkzeug._internal' (c:\\Users\\karti\\AppData\\Local\\Programs\\Python\\Python312\\Lib\\site-packages\\werkzeug\\_internal.py)"
     ]
    }
   ],
   "source": [
    "import pandas as pd\n",
    "import os\n",
    "from os  import getcwd\n",
    "import pickle\n",
    "from flask import Flask\n",
    "from flask import render_template\n",
    "from flask import request\n",
    "\n",
    "\n",
    "app = Flask(__name__)\n",
    "\n",
    "directory = getcwd()"
   ]
  },
  {
   "cell_type": "markdown",
   "metadata": {},
   "source": [
    "# Import the required Pickle files"
   ]
  },
  {
   "cell_type": "code",
   "execution_count": null,
   "metadata": {},
   "outputs": [],
   "source": [
    "prod_ranking_model = pickle.load(open(os.path.join(directory,'prod_ranking_model.pkl'),'rb'))\n",
    "cust_prod_ranking_model = pickle.load(open(os.path.join(directory,'cust_prod_ranking_model.pkl'),'rb'))\n",
    "cust_correlation_model = pickle.load(open(os.path.join(directory,'cust_correlation_model.pkl'),'rb'))\n",
    "prod_correlation_model = pickle.load(open(os.path.join(directory,'prod_correlation_model.pkl'),'rb'))"
   ]
  },
  {
   "cell_type": "markdown",
   "metadata": {},
   "source": [
    "# HTML code for displaying Table"
   ]
  },
  {
   "cell_type": "code",
   "execution_count": 7,
   "metadata": {},
   "outputs": [],
   "source": [
    "# This function structures the HTML code for displaying the table on website\n",
    "def html_code_table(prod_df,table_name,file_name,side):\n",
    "    table_style = '<table style=\"border: 2px solid; float: ' + side + '; width: 40%;\">'\n",
    "    table_head = '<caption style=\"text-align: center; caption-side: top; font-size: 140%; font-weight: bold; color:black;\"><strong>' + table_name + '</strong></caption>'\n",
    "    table_head_row = '<tr><th>Product Name</th><th>Price (in Rs.)</th></tr>'\n",
    "    \n",
    "    html_code = table_style + table_head + table_head_row\n",
    "    \n",
    "    for i in range(len(prod_df.index)):\n",
    "        row = '<tr><td>' + str(prod_df['Product'][i]) + '</td><td>' + str(prod_df['Rate'][i]) + '</td></tr>'\n",
    "        html_code = html_code + row\n",
    "        \n",
    "    html_code = html_code + '</table>'\n",
    "    \n",
    "    file_path = os.path.join(directory,'templates/')\n",
    "    \n",
    "    hs = open(file_path + file_name + '.html', 'w')\n",
    "    hs.write(html_code)\n",
    "    \n",
    "    #print(html_code)"
   ]
  },
  {
   "cell_type": "markdown",
   "metadata": {},
   "source": [
    "# Most Popular and Top Selling Products"
   ]
  },
  {
   "cell_type": "code",
   "execution_count": 8,
   "metadata": {},
   "outputs": [],
   "source": [
    "# This function calls the html_code_table function to create a .html file for Most Popular Products\n",
    "def most_popular_table():\n",
    "    most_popular_prods = prod_ranking_model.sort_values('Popularity_Rank',ascending=True)[['Product','Rate']].head(10).reset_index(drop=True)\n",
    "    \n",
    "    html_code_table(most_popular_prods,'Most Popular Products','mostpopulartable','left')\n",
    "\n",
    "# This function calls the html_code_table function to create a .html file for Top Selling Products\n",
    "def top_sell_table():\n",
    "    top_sell_prods = prod_ranking_model.sort_values('Top_Sell_Rank',ascending=True)[['Product','Rate']].head(10).reset_index(drop=True)\n",
    "    \n",
    "    html_code_table(top_sell_prods,'Top Selling Products','topselltable','right')"
   ]
  },
  {
   "cell_type": "markdown",
   "metadata": {},
   "source": [
    "# Customer Frequently Purchased and Purchased the Most Products"
   ]
  },
  {
   "cell_type": "code",
   "execution_count": 9,
   "metadata": {},
   "outputs": [],
   "source": [
    "# This function calls the html_code_table function to create a .html file for Most Popular Products of a Customer\n",
    "def cust_most_popular_table(cust_name):\n",
    "    cust_most_popular_prods = cust_prod_ranking_model[cust_prod_ranking_model['Party'] == cust_name]\n",
    "    cust_most_popular_prods = cust_most_popular_prods.sort_values('Popularity_Rank',ascending=True)[['Product','Rate']].head(10).reset_index(drop=True)\n",
    "    \n",
    "    html_code_table(cust_most_popular_prods,'Products you Frequently Purchased','custmostpopulartable','left')\n",
    "\n",
    "# This function calls the html_code_table function to create a .html file for Top Selling Products of a Customer\n",
    "def cust_top_sell_table(cust_name):\n",
    "    cust_top_sell_prods = cust_prod_ranking_model[cust_prod_ranking_model['Party'] == cust_name]\n",
    "    cust_top_sell_prods = cust_top_sell_prods.sort_values('Top_Sell_Rank',ascending=True)[['Product','Rate']].head(10).reset_index(drop=True)\n",
    "    \n",
    "    #print(cust_top_sell_prods)\n",
    "    html_code_table(cust_top_sell_prods,'Products you Purchased the Most','custtopselltable','right')"
   ]
  },
  {
   "cell_type": "markdown",
   "metadata": {},
   "source": [
    "# Products Customer may Like"
   ]
  },
  {
   "cell_type": "code",
   "execution_count": 10,
   "metadata": {},
   "outputs": [],
   "source": [
    "# This function performs the below functionality for the input customer\n",
    "# - get the list of customers with similar purchasing pattern and correlation coefficient\n",
    "# - for each customer from the list,\n",
    "#   - get the products purchased\n",
    "#   - multiply the purchased qty with customer correlation coefficient\n",
    "# - aggregate the qty_corr by product\n",
    "# - ignore the products already purchased by the input customer\n",
    "# - sort them by the qty_corr\n",
    "# - calls the html_code_table function to create a .html file for top 10 products customer may like\n",
    "\n",
    "def recommend_prod_cust(cust_name):\n",
    "    similar_custs_corr = cust_correlation_model.loc[cust_name].sort_values(ascending=False)\n",
    "    \n",
    "    prod_by_similar_custs = pd.DataFrame()\n",
    "    \n",
    "    # get the products purchased by each customer and multiply with the customer correlation coefficient\n",
    "    for i in range(len(similar_custs_corr)):\n",
    "        if similar_custs_corr.index[i] != cust_name:\n",
    "            cust_top_sell_prods = cust_prod_ranking_model[cust_prod_ranking_model['Party'] == similar_custs_corr.index[i]]\n",
    "            cust_top_sell_prods = cust_top_sell_prods[['Product','Qty','Rate']].reset_index(drop=True)\n",
    "            cust_top_sell_prods['Qty_Corr'] = cust_top_sell_prods['Qty'] * similar_custs_corr.iloc[i]\n",
    "            prod_by_similar_custs = pd.concat([cust_top_sell_prods,prod_by_similar_custs])\n",
    "    \n",
    "    # aggregate the Qty Correlation by Product\n",
    "    prod_by_similar_custs = prod_by_similar_custs.groupby('Product').agg({'Qty_Corr':'sum','Rate':'max'})\n",
    "    prod_by_similar_custs.reset_index(inplace=True)\n",
    "    #print(prod_by_similar_custs.head(20))\n",
    "    \n",
    "    # ignore the products already purchased by the input customer\n",
    "    # merge prod_by_similar_custs and customer purchased products and drop the rows with No_of_orders being Not Null\n",
    "    input_cust_top_sell_prods = cust_prod_ranking_model[cust_prod_ranking_model['Party'] == cust_name]\n",
    "    df_merge = pd.merge(prod_by_similar_custs,input_cust_top_sell_prods[['Product','No_of_Orders']],how='left',on='Product')\n",
    "    prod_recommend_to_cust = df_merge[df_merge['No_of_Orders'].isnull()]\n",
    "    \n",
    "    # sort the dataframe on Qty_Corr\n",
    "    prod_recommend_to_cust = prod_recommend_to_cust.sort_values('Qty_Corr',ascending=False)[['Product','Rate']].head(10).reset_index(drop=True)\n",
    "    \n",
    "    #print(prod_recommend_to_cust)\n",
    "    \n",
    "    html_code_table(prod_recommend_to_cust,'Products you may like','prodrecommendtable','center')"
   ]
  },
  {
   "cell_type": "markdown",
   "metadata": {},
   "source": [
    "# Similar Products to Display"
   ]
  },
  {
   "cell_type": "code",
   "execution_count": 19,
   "metadata": {},
   "outputs": [],
   "source": [
    "# This function performs the below functionality for the input product\n",
    "# - get the list of products with similar purchasing pattern and correlation coefficient\n",
    "# - get the price of each product from prod_ranking_model\n",
    "# - get the price of input product and return to main\n",
    "# - drop the product in view from the list\n",
    "# - sort them by the correlation coefficient\n",
    "# - calls the html_code_table function to create a .html file for top 10 products similar to the product in view\n",
    "\n",
    "def similar_prods(prod_name):\n",
    "    similar_prods_corr = prod_correlation_model.loc[prod_name].sort_values(ascending=False)\n",
    "    \n",
    "    similar_prods = pd.merge(similar_prods_corr,prod_ranking_model[['Product','Rate']],how='left',on='Product')\n",
    "    \n",
    "    prod_price = similar_prods[similar_prods['Product'] == prod_name]['Rate'].values[0]\n",
    "    \n",
    "    input_prod_index = similar_prods[similar_prods['Product'] == prod_name].index\n",
    "    similar_prods.drop(index=input_prod_index,inplace=True)\n",
    "    \n",
    "    similar_prods = similar_prods[['Product','Rate']].head(10).reset_index(drop=True)\n",
    "    \n",
    "    #print(similar_prods)\n",
    "    \n",
    "    html_code_table(similar_prods,'Customers who purchased this product also purchased these','similarprodtable','left')\n",
    "    \n",
    "    return prod_price"
   ]
  },
  {
   "cell_type": "markdown",
   "metadata": {},
   "source": []
  },
  {
   "cell_type": "code",
   "execution_count": 12,
   "metadata": {},
   "outputs": [
    {
     "name": "stdout",
     "output_type": "stream",
     "text": [
      " * Serving Flask app \"__main__\" (lazy loading)\n",
      " * Environment: production\n",
      "   WARNING: This is a development server. Do not use it in a production deployment.\n",
      "   Use a production WSGI server instead.\n",
      " * Debug mode: on\n"
     ]
    },
    {
     "name": "stderr",
     "output_type": "stream",
     "text": [
      " * Restarting with stat\n"
     ]
    },
    {
     "ename": "SystemExit",
     "evalue": "1",
     "output_type": "error",
     "traceback": [
      "An exception has occurred, use %tb to see the full traceback.\n",
      "\u001b[1;31mSystemExit\u001b[0m\u001b[1;31m:\u001b[0m 1\n"
     ]
    },
    {
     "name": "stderr",
     "output_type": "stream",
     "text": [
      "C:\\Users\\sureg\\Miniconda3\\lib\\site-packages\\IPython\\core\\interactiveshell.py:3333: UserWarning: To exit: use 'exit', 'quit', or Ctrl-D.\n",
      "  warn(\"To exit: use 'exit', 'quit', or Ctrl-D.\", stacklevel=1)\n"
     ]
    }
   ],
   "source": [
    "@app.route(\"/\")\n",
    "def home():\n",
    "    most_popular_table()\n",
    "    top_sell_table()\n",
    "        \n",
    "    return render_template('home.html')\n",
    "\n",
    "\n",
    "@app.route(\"/login\")\n",
    "def login():\n",
    "    most_popular_table()\n",
    "    top_sell_table()\n",
    "    \n",
    "    cust_name = str(request.args.get('name')).upper()\n",
    "    \n",
    "    if cust_name in cust_prod_ranking_model['Party'].unique():\n",
    "        cust_most_popular_table(cust_name)\n",
    "        cust_top_sell_table(cust_name)\n",
    "        recommend_prod_cust(cust_name)\n",
    "        return render_template('cust_home.html',name=cust_name,new='n')\n",
    "    else:\n",
    "        return render_template('cust_home.html',name=cust_name,new='y')\n",
    "\n",
    "    \n",
    "@app.route(\"/view\")\n",
    "def view():\n",
    "    prod_name = str(request.args.get('prod')).upper()\n",
    "    \n",
    "    if prod_name in prod_ranking_model['Product'].unique():\n",
    "        prod_price = similar_prods(prod_name)\n",
    "        return render_template('prod_view.html',prod=prod_name,price=prod_price,exists='y')\n",
    "    else:\n",
    "        return render_template('prod_view.html',prod=prod_name,exists='n')\n",
    "\n",
    "\n",
    "if __name__ == \"__main__\":\n",
    "    app.run(debug=True)\n"
   ]
  },
  {
   "cell_type": "code",
   "execution_count": null,
   "metadata": {},
   "outputs": [],
   "source": []
  }
 ],
 "metadata": {
  "kernelspec": {
   "display_name": "Python 3",
   "language": "python",
   "name": "python3"
  },
  "language_info": {
   "codemirror_mode": {
    "name": "ipython",
    "version": 3
   },
   "file_extension": ".py",
   "mimetype": "text/x-python",
   "name": "python",
   "nbconvert_exporter": "python",
   "pygments_lexer": "ipython3",
   "version": "3.12.2"
  }
 },
 "nbformat": 4,
 "nbformat_minor": 2
}
